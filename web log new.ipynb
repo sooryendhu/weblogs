{
 "cells": [
  {
   "cell_type": "markdown",
   "id": "deac1513",
   "metadata": {},
   "source": [
    "# Setting up spark dependencies"
   ]
  },
  {
   "cell_type": "code",
   "execution_count": 1,
   "id": "d2a7fd39",
   "metadata": {},
   "outputs": [
    {
     "name": "stderr",
     "output_type": "stream",
     "text": [
      "D:\\project\\lib\\site-packages\\pyspark\\sql\\context.py:112: FutureWarning: Deprecated in 3.0.0. Use SparkSession.builder.getOrCreate() instead.\n",
      "  warnings.warn(\n"
     ]
    }
   ],
   "source": [
    "from pyspark.context import SparkContext\n",
    "from pyspark.sql.context import SQLContext\n",
    "from pyspark.sql.session import SparkSession\n",
    "    \n",
    "sc = SparkContext()\n",
    "sqlContext = SQLContext(sc)\n",
    "spark = SparkSession(sc)\n",
    "\n",
    "# load up other dependencies\n",
    "import re\n",
    "import pandas as pd"
   ]
  },
  {
   "cell_type": "code",
   "execution_count": 2,
   "id": "65c13b80",
   "metadata": {},
   "outputs": [
    {
     "name": "stdout",
     "output_type": "stream",
     "text": [
      "<re.Match object; span=(0, 25), match=\"I'm searching for a spark\"> 0 25\n",
      "<re.Match object; span=(25, 36), match=' in PySpark'> 25 36\n"
     ]
    }
   ],
   "source": [
    "m = re.finditer(r'.*?(spark).*?', \"I'm searching for a spark in PySpark\", re.I)\n",
    "for match in m:\n",
    "    print(match, match.start(), match.end())"
   ]
  },
  {
   "cell_type": "markdown",
   "id": "c6841c33",
   "metadata": {},
   "source": [
    "# Loading and Viewing the dataset"
   ]
  },
  {
   "cell_type": "code",
   "execution_count": 3,
   "id": "d8016126",
   "metadata": {},
   "outputs": [
    {
     "data": {
      "text/plain": [
       "['log1.1txt']"
      ]
     },
     "execution_count": 3,
     "metadata": {},
     "output_type": "execute_result"
    }
   ],
   "source": [
    "import glob\n",
    "\n",
    "raw_data_files = glob.glob('*.1txt')\n",
    "raw_data_files"
   ]
  },
  {
   "cell_type": "code",
   "execution_count": 4,
   "id": "f9cdd41f",
   "metadata": {},
   "outputs": [
    {
     "name": "stdout",
     "output_type": "stream",
     "text": [
      "root\n",
      " |-- value: string (nullable = true)\n",
      "\n"
     ]
    }
   ],
   "source": [
    "base_df = spark.read.text(raw_data_files)\n",
    "base_df.printSchema()"
   ]
  },
  {
   "cell_type": "code",
   "execution_count": 5,
   "id": "e8878959",
   "metadata": {},
   "outputs": [
    {
     "data": {
      "text/plain": [
       "pyspark.sql.dataframe.DataFrame"
      ]
     },
     "execution_count": 5,
     "metadata": {},
     "output_type": "execute_result"
    }
   ],
   "source": [
    "type(base_df)"
   ]
  },
  {
   "cell_type": "markdown",
   "id": "27394c02",
   "metadata": {},
   "source": [
    "# Converting into RDD"
   ]
  },
  {
   "cell_type": "code",
   "execution_count": 6,
   "id": "186f5ae9",
   "metadata": {},
   "outputs": [
    {
     "data": {
      "text/plain": [
       "pyspark.rdd.RDD"
      ]
     },
     "execution_count": 6,
     "metadata": {},
     "output_type": "execute_result"
    }
   ],
   "source": [
    "base_df_rdd = base_df.rdd\n",
    "type(base_df_rdd)"
   ]
  },
  {
   "cell_type": "markdown",
   "id": "dcf72198",
   "metadata": {},
   "source": [
    "# Displaying the log file"
   ]
  },
  {
   "cell_type": "code",
   "execution_count": 7,
   "id": "239df2da",
   "metadata": {},
   "outputs": [
    {
     "name": "stdout",
     "output_type": "stream",
     "text": [
      "+---------------------------------------------------------------------------------------------------------------------------------------------------------+\n",
      "|value                                                                                                                                                    |\n",
      "+---------------------------------------------------------------------------------------------------------------------------------------------------------+\n",
      "|64.242.88.10 - - [07/Mar/2004:16:05:49 -0800] \"GET /twiki/bin/edit/Main/Double_bounce_sender?topicparent=Main.ConfigurationVariables HTTP/1.1\" 401 12846 |\n",
      "|64.242.88.10 - - [07/Mar/2004:16:06:51 -0800] \"GET /twiki/bin/rdiff/TWiki/NewUserTemplate?rev1=1.3&rev2=1.2 HTTP/1.1\" 200 4523                           |\n",
      "|64.242.88.10 - - [07/Mar/2004:16:10:02 -0800] \"GET /mailman/listinfo/hsdivision HTTP/1.1\" 200 6291                                                       |\n",
      "|64.242.88.10 - - [07/Mar/2004:16:11:58 -0800] \"GET /twiki/bin/view/TWiki/WikiSyntax HTTP/1.1\" 200 7352                                                   |\n",
      "|64.242.88.10 - - [07/Mar/2004:16:20:55 -0800] \"GET /twiki/bin/view/Main/DCCAndPostFix HTTP/1.1\" 200 5253                                                 |\n",
      "|64.242.88.10 - - [07/Mar/2004:16:23:12 -0800] \"GET /twiki/bin/oops/TWiki/AppendixFileSystem?template=oopsmore&param1=1.12&param2=1.12 HTTP/1.1\" 200 11382|\n",
      "|64.242.88.10 - - [07/Mar/2004:16:24:16 -0800] \"GET /twiki/bin/view/Main/PeterThoeny HTTP/1.1\" 200 4924                                                   |\n",
      "|64.242.88.10 - - [07/Mar/2004:16:29:16 -0800] \"GET /twiki/bin/edit/Main/Header_checks?topicparent=Main.ConfigurationVariables HTTP/1.1\" 401 12851        |\n",
      "|64.242.88.10 - - [07/Mar/2004:16:30:29 -0800] \"GET /twiki/bin/attach/Main/OfficeLocations HTTP/1.1\" 401 12851                                            |\n",
      "|64.242.88.10 - - [07/Mar/2004:16:31:48 -0800] \"GET /twiki/bin/view/TWiki/WebTopicEditTemplate HTTP/1.1\" 200 3732                                         |\n",
      "+---------------------------------------------------------------------------------------------------------------------------------------------------------+\n",
      "only showing top 10 rows\n",
      "\n"
     ]
    }
   ],
   "source": [
    "base_df.show(10, truncate=False)"
   ]
  },
  {
   "cell_type": "markdown",
   "id": "29085b3f",
   "metadata": {},
   "source": [
    "# Number of total logs in dataset"
   ]
  },
  {
   "cell_type": "code",
   "execution_count": 8,
   "id": "663e7129",
   "metadata": {},
   "outputs": [
    {
     "name": "stdout",
     "output_type": "stream",
     "text": [
      "(1546, 1)\n"
     ]
    }
   ],
   "source": [
    "print((base_df.count(), len(base_df.columns)))"
   ]
  },
  {
   "cell_type": "code",
   "execution_count": 9,
   "id": "83dd5769",
   "metadata": {},
   "outputs": [
    {
     "data": {
      "text/plain": [
       "['64.242.88.10 - - [07/Mar/2004:16:05:49 -0800] \"GET /twiki/bin/edit/Main/Double_bounce_sender?topicparent=Main.ConfigurationVariables HTTP/1.1\" 401 12846',\n",
       " '64.242.88.10 - - [07/Mar/2004:16:06:51 -0800] \"GET /twiki/bin/rdiff/TWiki/NewUserTemplate?rev1=1.3&rev2=1.2 HTTP/1.1\" 200 4523',\n",
       " '64.242.88.10 - - [07/Mar/2004:16:10:02 -0800] \"GET /mailman/listinfo/hsdivision HTTP/1.1\" 200 6291',\n",
       " '64.242.88.10 - - [07/Mar/2004:16:11:58 -0800] \"GET /twiki/bin/view/TWiki/WikiSyntax HTTP/1.1\" 200 7352',\n",
       " '64.242.88.10 - - [07/Mar/2004:16:20:55 -0800] \"GET /twiki/bin/view/Main/DCCAndPostFix HTTP/1.1\" 200 5253',\n",
       " '64.242.88.10 - - [07/Mar/2004:16:23:12 -0800] \"GET /twiki/bin/oops/TWiki/AppendixFileSystem?template=oopsmore&param1=1.12&param2=1.12 HTTP/1.1\" 200 11382',\n",
       " '64.242.88.10 - - [07/Mar/2004:16:24:16 -0800] \"GET /twiki/bin/view/Main/PeterThoeny HTTP/1.1\" 200 4924',\n",
       " '64.242.88.10 - - [07/Mar/2004:16:29:16 -0800] \"GET /twiki/bin/edit/Main/Header_checks?topicparent=Main.ConfigurationVariables HTTP/1.1\" 401 12851',\n",
       " '64.242.88.10 - - [07/Mar/2004:16:30:29 -0800] \"GET /twiki/bin/attach/Main/OfficeLocations HTTP/1.1\" 401 12851',\n",
       " '64.242.88.10 - - [07/Mar/2004:16:31:48 -0800] \"GET /twiki/bin/view/TWiki/WebTopicEditTemplate HTTP/1.1\" 200 3732',\n",
       " '64.242.88.10 - - [07/Mar/2004:16:32:50 -0800] \"GET /twiki/bin/view/Main/WebChanges HTTP/1.1\" 200 40520',\n",
       " '64.242.88.10 - - [07/Mar/2004:16:33:53 -0800] \"GET /twiki/bin/edit/Main/Smtpd_etrn_restrictions?topicparent=Main.ConfigurationVariables HTTP/1.1\" 401 12851',\n",
       " '64.242.88.10 - - [07/Mar/2004:16:35:19 -0800] \"GET /mailman/listinfo/business HTTP/1.1\" 200 6379',\n",
       " '64.242.88.10 - - [07/Mar/2004:16:36:22 -0800] \"GET /twiki/bin/rdiff/Main/WebIndex?rev1=1.2&rev2=1.1 HTTP/1.1\" 200 46373',\n",
       " '64.242.88.10 - - [07/Mar/2004:16:37:27 -0800] \"GET /twiki/bin/view/TWiki/DontNotify HTTP/1.1\" 200 4140']"
      ]
     },
     "execution_count": 9,
     "metadata": {},
     "output_type": "execute_result"
    }
   ],
   "source": [
    "sample_logs = [item['value'] for item in base_df.take(15)]\n",
    "sample_logs"
   ]
  },
  {
   "cell_type": "markdown",
   "id": "19f23de9",
   "metadata": {},
   "source": [
    "# Extracting host names/code"
   ]
  },
  {
   "cell_type": "code",
   "execution_count": 10,
   "id": "c022012d",
   "metadata": {},
   "outputs": [
    {
     "data": {
      "text/plain": [
       "['64.242.88.10',\n",
       " '64.242.88.10',\n",
       " '64.242.88.10',\n",
       " '64.242.88.10',\n",
       " '64.242.88.10',\n",
       " '64.242.88.10',\n",
       " '64.242.88.10',\n",
       " '64.242.88.10',\n",
       " '64.242.88.10',\n",
       " '64.242.88.10',\n",
       " '64.242.88.10',\n",
       " '64.242.88.10',\n",
       " '64.242.88.10',\n",
       " '64.242.88.10',\n",
       " '64.242.88.10']"
      ]
     },
     "execution_count": 10,
     "metadata": {},
     "output_type": "execute_result"
    }
   ],
   "source": [
    "host_pattern = r'(^\\S+\\.[\\S+\\.]+\\S+)\\s'\n",
    "hosts = [re.search(host_pattern, item).group(1)\n",
    "           if re.search(host_pattern, item)\n",
    "           else 'no match'\n",
    "           for item in sample_logs]\n",
    "hosts"
   ]
  },
  {
   "cell_type": "markdown",
   "id": "ae8a5688",
   "metadata": {},
   "source": [
    "# Extracting time stamps"
   ]
  },
  {
   "cell_type": "code",
   "execution_count": 11,
   "id": "0b72a7ad",
   "metadata": {},
   "outputs": [
    {
     "data": {
      "text/plain": [
       "['07/Mar/2004:16:05:49 -0800',\n",
       " '07/Mar/2004:16:06:51 -0800',\n",
       " '07/Mar/2004:16:10:02 -0800',\n",
       " '07/Mar/2004:16:11:58 -0800',\n",
       " '07/Mar/2004:16:20:55 -0800',\n",
       " '07/Mar/2004:16:23:12 -0800',\n",
       " '07/Mar/2004:16:24:16 -0800',\n",
       " '07/Mar/2004:16:29:16 -0800',\n",
       " '07/Mar/2004:16:30:29 -0800',\n",
       " '07/Mar/2004:16:31:48 -0800',\n",
       " '07/Mar/2004:16:32:50 -0800',\n",
       " '07/Mar/2004:16:33:53 -0800',\n",
       " '07/Mar/2004:16:35:19 -0800',\n",
       " '07/Mar/2004:16:36:22 -0800',\n",
       " '07/Mar/2004:16:37:27 -0800']"
      ]
     },
     "execution_count": 11,
     "metadata": {},
     "output_type": "execute_result"
    }
   ],
   "source": [
    "ts_pattern = r'\\[(\\d{2}/\\w{3}/\\d{4}:\\d{2}:\\d{2}:\\d{2} -\\d{4})]'\n",
    "timestamps = [re.search(ts_pattern, item).group(1) for item in sample_logs]\n",
    "timestamps"
   ]
  },
  {
   "cell_type": "markdown",
   "id": "c98a102b",
   "metadata": {},
   "source": [
    "# Extracting https method,URIs and Protocol"
   ]
  },
  {
   "cell_type": "code",
   "execution_count": 12,
   "id": "eb7118ef",
   "metadata": {},
   "outputs": [
    {
     "data": {
      "text/plain": [
       "[('GET',\n",
       "  '/twiki/bin/edit/Main/Double_bounce_sender?topicparent=Main.ConfigurationVariables',\n",
       "  'HTTP/1.1'),\n",
       " ('GET',\n",
       "  '/twiki/bin/rdiff/TWiki/NewUserTemplate?rev1=1.3&rev2=1.2',\n",
       "  'HTTP/1.1'),\n",
       " ('GET', '/mailman/listinfo/hsdivision', 'HTTP/1.1'),\n",
       " ('GET', '/twiki/bin/view/TWiki/WikiSyntax', 'HTTP/1.1'),\n",
       " ('GET', '/twiki/bin/view/Main/DCCAndPostFix', 'HTTP/1.1'),\n",
       " ('GET',\n",
       "  '/twiki/bin/oops/TWiki/AppendixFileSystem?template=oopsmore&param1=1.12&param2=1.12',\n",
       "  'HTTP/1.1'),\n",
       " ('GET', '/twiki/bin/view/Main/PeterThoeny', 'HTTP/1.1'),\n",
       " ('GET',\n",
       "  '/twiki/bin/edit/Main/Header_checks?topicparent=Main.ConfigurationVariables',\n",
       "  'HTTP/1.1'),\n",
       " ('GET', '/twiki/bin/attach/Main/OfficeLocations', 'HTTP/1.1'),\n",
       " ('GET', '/twiki/bin/view/TWiki/WebTopicEditTemplate', 'HTTP/1.1'),\n",
       " ('GET', '/twiki/bin/view/Main/WebChanges', 'HTTP/1.1'),\n",
       " ('GET',\n",
       "  '/twiki/bin/edit/Main/Smtpd_etrn_restrictions?topicparent=Main.ConfigurationVariables',\n",
       "  'HTTP/1.1'),\n",
       " ('GET', '/mailman/listinfo/business', 'HTTP/1.1'),\n",
       " ('GET', '/twiki/bin/rdiff/Main/WebIndex?rev1=1.2&rev2=1.1', 'HTTP/1.1'),\n",
       " ('GET', '/twiki/bin/view/TWiki/DontNotify', 'HTTP/1.1')]"
      ]
     },
     "execution_count": 12,
     "metadata": {},
     "output_type": "execute_result"
    }
   ],
   "source": [
    "method_uri_protocol_pattern = r'\\\"(\\S+)\\s(\\S+)\\s*(\\S*)\\\"'\n",
    "method_uri_protocol = [re.search(method_uri_protocol_pattern, item).groups()\n",
    "               if re.search(method_uri_protocol_pattern, item)\n",
    "               else 'no match'\n",
    "              for item in sample_logs]\n",
    "method_uri_protocol"
   ]
  },
  {
   "cell_type": "markdown",
   "id": "28400564",
   "metadata": {},
   "source": [
    "# Extracting http status code"
   ]
  },
  {
   "cell_type": "code",
   "execution_count": 13,
   "id": "c81ee012",
   "metadata": {},
   "outputs": [
    {
     "name": "stdout",
     "output_type": "stream",
     "text": [
      "['401', '200', '200', '200', '200', '200', '200', '401', '401', '200', '200', '401', '200', '200', '200']\n"
     ]
    }
   ],
   "source": [
    "status_pattern = r'\\s(\\d{3})\\s'\n",
    "status = [re.search(status_pattern, item).group(1) for item in sample_logs]\n",
    "print(status)"
   ]
  },
  {
   "cell_type": "markdown",
   "id": "7586358e",
   "metadata": {},
   "source": [
    "# Extracting HTTP Response Content Size"
   ]
  },
  {
   "cell_type": "code",
   "execution_count": 14,
   "id": "8cedc298",
   "metadata": {},
   "outputs": [
    {
     "name": "stdout",
     "output_type": "stream",
     "text": [
      "['12846', '4523', '6291', '7352', '5253', '11382', '4924', '12851', '12851', '3732', '40520', '12851', '6379', '46373', '4140']\n"
     ]
    }
   ],
   "source": [
    "content_size_pattern = r'\\s(\\d+)$'\n",
    "content_size = [re.search(content_size_pattern, item).group(1) for item in sample_logs]\n",
    "print(content_size)"
   ]
  },
  {
   "cell_type": "markdown",
   "id": "73612d78",
   "metadata": {},
   "source": [
    "# Putting it all in log format"
   ]
  },
  {
   "cell_type": "code",
   "execution_count": 15,
   "id": "9818a450",
   "metadata": {},
   "outputs": [
    {
     "name": "stdout",
     "output_type": "stream",
     "text": [
      "+------------+--------------------+------+--------------------+--------+------+------------+\n",
      "|        host|           timestamp|method|            endpoint|protocol|status|content_size|\n",
      "+------------+--------------------+------+--------------------+--------+------+------------+\n",
      "|64.242.88.10|07/Mar/2004:16:05...|   GET|/twiki/bin/edit/M...|HTTP/1.1|   401|       12846|\n",
      "|64.242.88.10|07/Mar/2004:16:06...|   GET|/twiki/bin/rdiff/...|HTTP/1.1|   200|        4523|\n",
      "|64.242.88.10|07/Mar/2004:16:10...|   GET|/mailman/listinfo...|HTTP/1.1|   200|        6291|\n",
      "|64.242.88.10|07/Mar/2004:16:11...|   GET|/twiki/bin/view/T...|HTTP/1.1|   200|        7352|\n",
      "|64.242.88.10|07/Mar/2004:16:20...|   GET|/twiki/bin/view/M...|HTTP/1.1|   200|        5253|\n",
      "|64.242.88.10|07/Mar/2004:16:23...|   GET|/twiki/bin/oops/T...|HTTP/1.1|   200|       11382|\n",
      "|64.242.88.10|07/Mar/2004:16:24...|   GET|/twiki/bin/view/M...|HTTP/1.1|   200|        4924|\n",
      "|64.242.88.10|07/Mar/2004:16:29...|   GET|/twiki/bin/edit/M...|HTTP/1.1|   401|       12851|\n",
      "|64.242.88.10|07/Mar/2004:16:30...|   GET|/twiki/bin/attach...|HTTP/1.1|   401|       12851|\n",
      "|64.242.88.10|07/Mar/2004:16:31...|   GET|/twiki/bin/view/T...|HTTP/1.1|   200|        3732|\n",
      "+------------+--------------------+------+--------------------+--------+------+------------+\n",
      "only showing top 10 rows\n",
      "\n",
      "(1546, 7)\n"
     ]
    }
   ],
   "source": [
    "from pyspark.sql.functions import regexp_extract\n",
    "\n",
    "logs_df = base_df.select(regexp_extract('value', host_pattern, 1).alias('host'),\n",
    "                         regexp_extract('value', ts_pattern, 1).alias('timestamp'),\n",
    "                         regexp_extract('value', method_uri_protocol_pattern, 1).alias('method'),\n",
    "                         regexp_extract('value', method_uri_protocol_pattern, 2).alias('endpoint'),\n",
    "                         regexp_extract('value', method_uri_protocol_pattern, 3).alias('protocol'),\n",
    "                         regexp_extract('value', status_pattern, 1).cast('integer').alias('status'),\n",
    "                         regexp_extract('value', content_size_pattern, 1).cast('integer').alias('content_size'))\n",
    "logs_df.show(10, truncate=True)\n",
    "print((logs_df.count(), len(logs_df.columns)))"
   ]
  },
  {
   "cell_type": "markdown",
   "id": "567a8f7f",
   "metadata": {},
   "source": [
    "# Finding Missing Values"
   ]
  },
  {
   "cell_type": "code",
   "execution_count": 16,
   "id": "d5523cf8",
   "metadata": {},
   "outputs": [
    {
     "data": {
      "text/plain": [
       "0"
      ]
     },
     "execution_count": 16,
     "metadata": {},
     "output_type": "execute_result"
    }
   ],
   "source": [
    "(base_df\n",
    "    .filter(base_df['value']\n",
    "                .isNull())\n",
    "    .count())"
   ]
  },
  {
   "cell_type": "code",
   "execution_count": 17,
   "id": "8a39362d",
   "metadata": {},
   "outputs": [
    {
     "data": {
      "text/plain": [
       "139"
      ]
     },
     "execution_count": 17,
     "metadata": {},
     "output_type": "execute_result"
    }
   ],
   "source": [
    "bad_rows_df = logs_df.filter(logs_df['host'].isNull()| \n",
    "                             logs_df['timestamp'].isNull() | \n",
    "                             logs_df['method'].isNull() |\n",
    "                             logs_df['endpoint'].isNull() |\n",
    "                             logs_df['status'].isNull() |\n",
    "                             logs_df['content_size'].isNull()|\n",
    "                             logs_df['protocol'].isNull())\n",
    "bad_rows_df.count()"
   ]
  },
  {
   "cell_type": "markdown",
   "id": "7e59cdad",
   "metadata": {},
   "source": [
    "# Finding Null Counts"
   ]
  },
  {
   "cell_type": "code",
   "execution_count": 18,
   "id": "bdbd7f49",
   "metadata": {},
   "outputs": [
    {
     "name": "stdout",
     "output_type": "stream",
     "text": [
      "+----+---------+------+--------+--------+------+------------+\n",
      "|host|timestamp|method|endpoint|protocol|status|content_size|\n",
      "+----+---------+------+--------+--------+------+------------+\n",
      "|   0|        0|     0|       0|       0|     0|         139|\n",
      "+----+---------+------+--------+--------+------+------------+\n",
      "\n"
     ]
    }
   ],
   "source": [
    "from pyspark.sql.functions import col\n",
    "from pyspark.sql.functions import sum as spark_sum\n",
    "\n",
    "def count_null(col_name):\n",
    "    return spark_sum(col(col_name).isNull().cast('integer')).alias(col_name)\n",
    "\n",
    "# Build up a list of column expressions, one per column.\n",
    "exprs = [count_null(col_name) for col_name in logs_df.columns]\n",
    "\n",
    "# Run the aggregation. The *exprs converts the list of expressions into\n",
    "# variable function arguments.\n",
    "logs_df.agg(*exprs).show()"
   ]
  },
  {
   "cell_type": "code",
   "execution_count": 19,
   "id": "afff3b86",
   "metadata": {},
   "outputs": [
    {
     "data": {
      "text/plain": [
       "139"
      ]
     },
     "execution_count": 19,
     "metadata": {},
     "output_type": "execute_result"
    }
   ],
   "source": [
    "null_content_size_df = base_df.filter(~base_df['value'].rlike(r'\\s\\d+$'))\n",
    "null_content_size_df.count()"
   ]
  },
  {
   "cell_type": "code",
   "execution_count": 20,
   "id": "a34c0e31",
   "metadata": {},
   "outputs": [
    {
     "data": {
      "text/plain": [
       "[Row(value='80-219-148-207.dclient.hispeed.ch - - [07/Mar/2004:19:47:36 -0800] \"OPTIONS * HTTP/1.0\" 200 -'),\n",
       " Row(value='68-174-110-154.nyc.rr.com - - [08/Mar/2004:05:38:57 -0800] \"GET /razor.html HTTP/1.1\" 304 -'),\n",
       " Row(value='128.227.88.79 - - [08/Mar/2004:06:57:46 -0800] \"GET /twiki/pub/TWiki/TWikiLogos/twikiRobot46x50.gif HTTP/1.1\" 304 -'),\n",
       " Row(value='10.0.0.153 - - [08/Mar/2004:08:32:24 -0800] \"GET / HTTP/1.1\" 304 -'),\n",
       " Row(value='10.0.0.153 - - [08/Mar/2004:08:32:27 -0800] \"GET /twiki/pub/TWiki/TWikiLogos/twikiRobot46x50.gif HTTP/1.1\" 304 -'),\n",
       " Row(value='92-moc-6.acn.waw.pl - - [08/Mar/2004:08:37:14 -0800] \"GET /twiki/pub/TWiki/TWikiLogos/twikiRobot46x50.gif HTTP/1.1\" 304 -'),\n",
       " Row(value='10.0.0.153 - - [08/Mar/2004:09:02:29 -0800] \"GET / HTTP/1.1\" 304 -'),\n",
       " Row(value='spot.nnacorp.com - - [08/Mar/2004:09:02:54 -0800] \"GET /twiki/pub/TWiki/TWikiLogos/twikiRobot46x50.gif HTTP/1.1\" 304 -'),\n",
       " Row(value='10.0.0.153 - - [08/Mar/2004:09:18:53 -0800] \"GET / HTTP/1.1\" 304 -'),\n",
       " Row(value='10.0.0.153 - - [08/Mar/2004:09:18:56 -0800] \"GET /dccstats/index.html HTTP/1.1\" 304 -')]"
      ]
     },
     "execution_count": 20,
     "metadata": {},
     "output_type": "execute_result"
    }
   ],
   "source": [
    "null_content_size_df.take(10)"
   ]
  },
  {
   "cell_type": "code",
   "execution_count": 21,
   "id": "18f78811",
   "metadata": {},
   "outputs": [
    {
     "name": "stdout",
     "output_type": "stream",
     "text": [
      "+----+---------+------+--------+--------+------+------------+\n",
      "|host|timestamp|method|endpoint|protocol|status|content_size|\n",
      "+----+---------+------+--------+--------+------+------------+\n",
      "|   0|        0|     0|       0|       0|     0|           0|\n",
      "+----+---------+------+--------+--------+------+------------+\n",
      "\n"
     ]
    }
   ],
   "source": [
    "logs_df = logs_df.na.fill({'content_size': 0})\n",
    "exprs = [count_null(col_name) for col_name in logs_df.columns]\n",
    "logs_df.agg(*exprs).show()"
   ]
  },
  {
   "cell_type": "markdown",
   "id": "bc1a5814",
   "metadata": {},
   "source": [
    "# Handling Temporal Fields (Timestamp)"
   ]
  },
  {
   "cell_type": "code",
   "execution_count": 22,
   "id": "979d9d04",
   "metadata": {},
   "outputs": [],
   "source": [
    "from pyspark.sql.functions import udf\n",
    "\n",
    "month_map = {\n",
    "  'Jan': 1, 'Feb': 2, 'Mar':3, 'Apr':4, 'May':5, 'Jun':6, 'Jul':7,\n",
    "  'Aug':8,  'Sep': 9, 'Oct':10, 'Nov': 11, 'Dec': 12\n",
    "}\n",
    "\n",
    "def parse_clf_time(text):\n",
    "    \"\"\" Convert Common Log time format into a Python datetime object\n",
    "    Args:\n",
    "        text (str): date and time in Apache time format [dd/mmm/yyyy:hh:mm:ss (+/-)zzzz]\n",
    "    Returns:\n",
    "        a string suitable for passing to CAST('timestamp')\n",
    "    \"\"\"\n",
    "    # NOTE: We're ignoring the time zones here, might need to be handled depending on the problem you are solving\n",
    "    return \"{0:04d}-{1:02d}-{2:02d} {3:02d}:{4:02d}:{5:02d}\".format(\n",
    "      int(text[7:11]),\n",
    "      month_map[text[3:6]],\n",
    "      int(text[0:2]),\n",
    "      int(text[12:14]),\n",
    "      int(text[15:17]),\n",
    "      int(text[18:20])\n",
    "    )"
   ]
  },
  {
   "cell_type": "markdown",
   "id": "5297b195",
   "metadata": {},
   "source": [
    "# Content Size Statistics"
   ]
  },
  {
   "cell_type": "code",
   "execution_count": 23,
   "id": "b4b4eaae",
   "metadata": {},
   "outputs": [
    {
     "data": {
      "text/html": [
       "<div>\n",
       "<style scoped>\n",
       "    .dataframe tbody tr th:only-of-type {\n",
       "        vertical-align: middle;\n",
       "    }\n",
       "\n",
       "    .dataframe tbody tr th {\n",
       "        vertical-align: top;\n",
       "    }\n",
       "\n",
       "    .dataframe thead th {\n",
       "        text-align: right;\n",
       "    }\n",
       "</style>\n",
       "<table border=\"1\" class=\"dataframe\">\n",
       "  <thead>\n",
       "    <tr style=\"text-align: right;\">\n",
       "      <th></th>\n",
       "      <th>summary</th>\n",
       "      <th>content_size</th>\n",
       "    </tr>\n",
       "  </thead>\n",
       "  <tbody>\n",
       "    <tr>\n",
       "      <th>0</th>\n",
       "      <td>count</td>\n",
       "      <td>1546</td>\n",
       "    </tr>\n",
       "    <tr>\n",
       "      <th>1</th>\n",
       "      <td>mean</td>\n",
       "      <td>7078.5407503234155</td>\n",
       "    </tr>\n",
       "    <tr>\n",
       "      <th>2</th>\n",
       "      <td>stddev</td>\n",
       "      <td>11253.792381661198</td>\n",
       "    </tr>\n",
       "    <tr>\n",
       "      <th>3</th>\n",
       "      <td>min</td>\n",
       "      <td>0</td>\n",
       "    </tr>\n",
       "    <tr>\n",
       "      <th>4</th>\n",
       "      <td>max</td>\n",
       "      <td>138789</td>\n",
       "    </tr>\n",
       "  </tbody>\n",
       "</table>\n",
       "</div>"
      ],
      "text/plain": [
       "  summary        content_size\n",
       "0   count                1546\n",
       "1    mean  7078.5407503234155\n",
       "2  stddev  11253.792381661198\n",
       "3     min                   0\n",
       "4     max              138789"
      ]
     },
     "execution_count": 23,
     "metadata": {},
     "output_type": "execute_result"
    }
   ],
   "source": [
    "content_size_summary_df = logs_df.describe(['content_size'])\n",
    "content_size_summary_df.toPandas()"
   ]
  },
  {
   "cell_type": "code",
   "execution_count": 24,
   "id": "64525563",
   "metadata": {},
   "outputs": [
    {
     "data": {
      "text/html": [
       "<div>\n",
       "<style scoped>\n",
       "    .dataframe tbody tr th:only-of-type {\n",
       "        vertical-align: middle;\n",
       "    }\n",
       "\n",
       "    .dataframe tbody tr th {\n",
       "        vertical-align: top;\n",
       "    }\n",
       "\n",
       "    .dataframe thead th {\n",
       "        text-align: right;\n",
       "    }\n",
       "</style>\n",
       "<table border=\"1\" class=\"dataframe\">\n",
       "  <thead>\n",
       "    <tr style=\"text-align: right;\">\n",
       "      <th></th>\n",
       "      <th>min_content_size</th>\n",
       "      <th>max_content_size</th>\n",
       "      <th>mean_content_size</th>\n",
       "      <th>std_content_size</th>\n",
       "      <th>count_content_size</th>\n",
       "    </tr>\n",
       "  </thead>\n",
       "  <tbody>\n",
       "    <tr>\n",
       "      <th>0</th>\n",
       "      <td>0</td>\n",
       "      <td>138789</td>\n",
       "      <td>7078.54075</td>\n",
       "      <td>11253.792382</td>\n",
       "      <td>1546</td>\n",
       "    </tr>\n",
       "  </tbody>\n",
       "</table>\n",
       "</div>"
      ],
      "text/plain": [
       "   min_content_size  max_content_size  mean_content_size  std_content_size  \\\n",
       "0                 0            138789         7078.54075      11253.792382   \n",
       "\n",
       "   count_content_size  \n",
       "0                1546  "
      ]
     },
     "execution_count": 24,
     "metadata": {},
     "output_type": "execute_result"
    }
   ],
   "source": [
    "from pyspark.sql import functions as F\n",
    "\n",
    "(logs_df.agg(F.min(logs_df['content_size']).alias('min_content_size'),\n",
    "             F.max(logs_df['content_size']).alias('max_content_size'),\n",
    "             F.mean(logs_df['content_size']).alias('mean_content_size'),\n",
    "             F.stddev(logs_df['content_size']).alias('std_content_size'),\n",
    "             F.count(logs_df['content_size']).alias('count_content_size'))\n",
    "        .toPandas())"
   ]
  },
  {
   "cell_type": "markdown",
   "id": "af37c93a",
   "metadata": {},
   "source": [
    "# HTTP Status Code Analysis"
   ]
  },
  {
   "cell_type": "code",
   "execution_count": 25,
   "id": "812be4ec",
   "metadata": {},
   "outputs": [
    {
     "name": "stdout",
     "output_type": "stream",
     "text": [
      "Total distinct HTTP Status Codes: 6\n"
     ]
    }
   ],
   "source": [
    "status_freq_df = (logs_df\n",
    "                     .groupBy('status')\n",
    "                     .count()\n",
    "                     .sort('status')\n",
    "                     .cache())\n",
    "print('Total distinct HTTP Status Codes:', status_freq_df.count())"
   ]
  },
  {
   "cell_type": "code",
   "execution_count": 26,
   "id": "68eb556b",
   "metadata": {},
   "outputs": [
    {
     "data": {
      "text/html": [
       "<div>\n",
       "<style scoped>\n",
       "    .dataframe tbody tr th:only-of-type {\n",
       "        vertical-align: middle;\n",
       "    }\n",
       "\n",
       "    .dataframe tbody tr th {\n",
       "        vertical-align: top;\n",
       "    }\n",
       "\n",
       "    .dataframe thead th {\n",
       "        text-align: right;\n",
       "    }\n",
       "</style>\n",
       "<table border=\"1\" class=\"dataframe\">\n",
       "  <thead>\n",
       "    <tr style=\"text-align: right;\">\n",
       "      <th></th>\n",
       "      <th>status</th>\n",
       "      <th>count</th>\n",
       "    </tr>\n",
       "  </thead>\n",
       "  <tbody>\n",
       "    <tr>\n",
       "      <th>0</th>\n",
       "      <td>200</td>\n",
       "      <td>1274</td>\n",
       "    </tr>\n",
       "    <tr>\n",
       "      <th>2</th>\n",
       "      <td>304</td>\n",
       "      <td>137</td>\n",
       "    </tr>\n",
       "    <tr>\n",
       "      <th>3</th>\n",
       "      <td>401</td>\n",
       "      <td>123</td>\n",
       "    </tr>\n",
       "    <tr>\n",
       "      <th>1</th>\n",
       "      <td>302</td>\n",
       "      <td>6</td>\n",
       "    </tr>\n",
       "    <tr>\n",
       "      <th>4</th>\n",
       "      <td>404</td>\n",
       "      <td>5</td>\n",
       "    </tr>\n",
       "    <tr>\n",
       "      <th>5</th>\n",
       "      <td>408</td>\n",
       "      <td>1</td>\n",
       "    </tr>\n",
       "  </tbody>\n",
       "</table>\n",
       "</div>"
      ],
      "text/plain": [
       "   status  count\n",
       "0     200   1274\n",
       "2     304    137\n",
       "3     401    123\n",
       "1     302      6\n",
       "4     404      5\n",
       "5     408      1"
      ]
     },
     "execution_count": 26,
     "metadata": {},
     "output_type": "execute_result"
    }
   ],
   "source": [
    "status_freq_pd_df = (status_freq_df\n",
    "                         .toPandas()\n",
    "                         .sort_values(by=['count'],\n",
    "                                      ascending=False))\n",
    "status_freq_pd_df"
   ]
  },
  {
   "cell_type": "code",
   "execution_count": 27,
   "id": "b70d53d8",
   "metadata": {},
   "outputs": [
    {
     "data": {
      "text/plain": [
       "<seaborn.axisgrid.FacetGrid at 0x2e5727416a0>"
      ]
     },
     "execution_count": 27,
     "metadata": {},
     "output_type": "execute_result"
    },
    {
     "data": {
      "image/png": "[encoded data removed]",
      "text/plain": [
       "<Figure size 360x360 with 1 Axes>"
      ]
     },
     "metadata": {
      "needs_background": "light"
     },
     "output_type": "display_data"
    }
   ],
   "source": [
    "import matplotlib.pyplot as plt\n",
    "import seaborn as sns\n",
    "import numpy as np\n",
    "%matplotlib inline\n",
    "\n",
    "sns.catplot(x='status', y='count', data=status_freq_pd_df, \n",
    "            kind='bar', order=status_freq_pd_df['status'])"
   ]
  },
  {
   "cell_type": "code",
   "execution_count": 28,
   "id": "06b3e931",
   "metadata": {},
   "outputs": [
    {
     "name": "stdout",
     "output_type": "stream",
     "text": [
      "+------+-----+------------------+\n",
      "|status|count|        log(count)|\n",
      "+------+-----+------------------+\n",
      "|   200| 1274| 7.149916836132109|\n",
      "|   302|    6| 1.791759469228055|\n",
      "|   304|  137| 4.919980925828125|\n",
      "|   401|  123| 4.812184355372417|\n",
      "|   404|    5|1.6094379124341003|\n",
      "|   408|    1|               0.0|\n",
      "+------+-----+------------------+\n",
      "\n"
     ]
    }
   ],
   "source": [
    "log_freq_df = status_freq_df.withColumn('log(count)', \n",
    "                                        F.log(status_freq_df['count']))\n",
    "log_freq_df.show()"
   ]
  },
  {
   "cell_type": "markdown",
   "id": "ba79c6e5",
   "metadata": {},
   "source": [
    "# handled the skewness from above"
   ]
  },
  {
   "cell_type": "code",
   "execution_count": 29,
   "id": "0b310baa",
   "metadata": {},
   "outputs": [
    {
     "data": {
      "text/plain": [
       "<seaborn.axisgrid.FacetGrid at 0x2e5773823a0>"
      ]
     },
     "execution_count": 29,
     "metadata": {},
     "output_type": "execute_result"
    },
    {
     "data": {
      "image/png": "[encoded data removed]",
      "text/plain": [
       "<Figure size 360x360 with 1 Axes>"
      ]
     },
     "metadata": {
      "needs_background": "light"
     },
     "output_type": "display_data"
    }
   ],
   "source": [
    "log_freq_pd_df = (log_freq_df\n",
    "                    .toPandas()\n",
    "                    .sort_values(by=['log(count)'],\n",
    "                                 ascending=False))\n",
    "sns.catplot(x='status', y='log(count)', data=log_freq_pd_df, \n",
    "            kind='bar', order=status_freq_pd_df['status'])"
   ]
  },
  {
   "cell_type": "markdown",
   "id": "d8ba90b3",
   "metadata": {},
   "source": [
    "# Analyzing Frequent Hosts"
   ]
  },
  {
   "cell_type": "code",
   "execution_count": 30,
   "id": "7a533dc0",
   "metadata": {},
   "outputs": [
    {
     "name": "stdout",
     "output_type": "stream",
     "text": [
      "+-------------------------------+-----+\n",
      "|host                           |count|\n",
      "+-------------------------------+-----+\n",
      "|64.242.88.10                   |452  |\n",
      "|10.0.0.153                     |270  |\n",
      "|h24-71-236-129.ca.shawcable.net|51   |\n",
      "|cr020r01-3.sac.overture.com    |44   |\n",
      "|h24-70-69-74.ca.shawcable.net  |32   |\n",
      "|market-mail.panduit.com        |29   |\n",
      "|ts04-ip92.hevanet.com          |28   |\n",
      "|mail.geovariances.fr           |23   |\n",
      "|ip68-228-43-49.tc.ph.cox.net   |22   |\n",
      "|207.195.59.160                 |20   |\n",
      "+-------------------------------+-----+\n",
      "\n"
     ]
    }
   ],
   "source": [
    "host_sum_df =(logs_df\n",
    "               .groupBy('host')\n",
    "               .count()\n",
    "               .sort('count', ascending=False).limit(10))\n",
    "\n",
    "host_sum_df.show(truncate=False)"
   ]
  },
  {
   "cell_type": "markdown",
   "id": "bbb6c4f6",
   "metadata": {},
   "source": [
    "# Display the Top 20 Frequent EndPoints"
   ]
  },
  {
   "cell_type": "code",
   "execution_count": 31,
   "id": "70374627",
   "metadata": {},
   "outputs": [
    {
     "data": {
      "text/html": [
       "<div>\n",
       "<style scoped>\n",
       "    .dataframe tbody tr th:only-of-type {\n",
       "        vertical-align: middle;\n",
       "    }\n",
       "\n",
       "    .dataframe tbody tr th {\n",
       "        vertical-align: top;\n",
       "    }\n",
       "\n",
       "    .dataframe thead th {\n",
       "        text-align: right;\n",
       "    }\n",
       "</style>\n",
       "<table border=\"1\" class=\"dataframe\">\n",
       "  <thead>\n",
       "    <tr style=\"text-align: right;\">\n",
       "      <th></th>\n",
       "      <th>endpoint</th>\n",
       "      <th>count</th>\n",
       "    </tr>\n",
       "  </thead>\n",
       "  <tbody>\n",
       "    <tr>\n",
       "      <th>0</th>\n",
       "      <td>/twiki/pub/TWiki/TWikiLogos/twikiRobot46x50.gif</td>\n",
       "      <td>64</td>\n",
       "    </tr>\n",
       "    <tr>\n",
       "      <th>1</th>\n",
       "      <td>/</td>\n",
       "      <td>47</td>\n",
       "    </tr>\n",
       "    <tr>\n",
       "      <th>2</th>\n",
       "      <td>/twiki/bin/view/Main/WebHome</td>\n",
       "      <td>41</td>\n",
       "    </tr>\n",
       "    <tr>\n",
       "      <th>3</th>\n",
       "      <td>/icons/gnu-head-tiny.jpg</td>\n",
       "      <td>37</td>\n",
       "    </tr>\n",
       "    <tr>\n",
       "      <th>4</th>\n",
       "      <td>/icons/PythonPowered.png</td>\n",
       "      <td>37</td>\n",
       "    </tr>\n",
       "    <tr>\n",
       "      <th>5</th>\n",
       "      <td>/icons/mailman.jpg</td>\n",
       "      <td>37</td>\n",
       "    </tr>\n",
       "    <tr>\n",
       "      <th>6</th>\n",
       "      <td>/favicon.ico</td>\n",
       "      <td>28</td>\n",
       "    </tr>\n",
       "    <tr>\n",
       "      <th>7</th>\n",
       "      <td>/robots.txt</td>\n",
       "      <td>27</td>\n",
       "    </tr>\n",
       "    <tr>\n",
       "      <th>8</th>\n",
       "      <td>/razor.html</td>\n",
       "      <td>26</td>\n",
       "    </tr>\n",
       "    <tr>\n",
       "      <th>9</th>\n",
       "      <td>/twiki/bin/view/Main/SpamAssassinTaggingOnly</td>\n",
       "      <td>18</td>\n",
       "    </tr>\n",
       "    <tr>\n",
       "      <th>10</th>\n",
       "      <td>/twiki/bin/view/Main/SpamAssassinAndPostFix</td>\n",
       "      <td>17</td>\n",
       "    </tr>\n",
       "    <tr>\n",
       "      <th>11</th>\n",
       "      <td>/cgi-bin/mailgraph.cgi/mailgraph_3.png</td>\n",
       "      <td>16</td>\n",
       "    </tr>\n",
       "    <tr>\n",
       "      <th>12</th>\n",
       "      <td>/cgi-bin/mailgraph.cgi/mailgraph_2.png</td>\n",
       "      <td>16</td>\n",
       "    </tr>\n",
       "    <tr>\n",
       "      <th>13</th>\n",
       "      <td>/cgi-bin/mailgraph2.cgi</td>\n",
       "      <td>16</td>\n",
       "    </tr>\n",
       "    <tr>\n",
       "      <th>14</th>\n",
       "      <td>/cgi-bin/mailgraph.cgi/mailgraph_0_err.png</td>\n",
       "      <td>16</td>\n",
       "    </tr>\n",
       "    <tr>\n",
       "      <th>15</th>\n",
       "      <td>/cgi-bin/mailgraph.cgi/mailgraph_2_err.png</td>\n",
       "      <td>16</td>\n",
       "    </tr>\n",
       "    <tr>\n",
       "      <th>16</th>\n",
       "      <td>/cgi-bin/mailgraph.cgi/mailgraph_0.png</td>\n",
       "      <td>16</td>\n",
       "    </tr>\n",
       "    <tr>\n",
       "      <th>17</th>\n",
       "      <td>/cgi-bin/mailgraph.cgi/mailgraph_1_err.png</td>\n",
       "      <td>16</td>\n",
       "    </tr>\n",
       "    <tr>\n",
       "      <th>18</th>\n",
       "      <td>/cgi-bin/mailgraph.cgi/mailgraph_1.png</td>\n",
       "      <td>16</td>\n",
       "    </tr>\n",
       "    <tr>\n",
       "      <th>19</th>\n",
       "      <td>/cgi-bin/mailgraph.cgi/mailgraph_3_err.png</td>\n",
       "      <td>16</td>\n",
       "    </tr>\n",
       "  </tbody>\n",
       "</table>\n",
       "</div>"
      ],
      "text/plain": [
       "                                           endpoint  count\n",
       "0   /twiki/pub/TWiki/TWikiLogos/twikiRobot46x50.gif     64\n",
       "1                                                 /     47\n",
       "2                      /twiki/bin/view/Main/WebHome     41\n",
       "3                          /icons/gnu-head-tiny.jpg     37\n",
       "4                          /icons/PythonPowered.png     37\n",
       "5                                /icons/mailman.jpg     37\n",
       "6                                      /favicon.ico     28\n",
       "7                                       /robots.txt     27\n",
       "8                                       /razor.html     26\n",
       "9      /twiki/bin/view/Main/SpamAssassinTaggingOnly     18\n",
       "10      /twiki/bin/view/Main/SpamAssassinAndPostFix     17\n",
       "11           /cgi-bin/mailgraph.cgi/mailgraph_3.png     16\n",
       "12           /cgi-bin/mailgraph.cgi/mailgraph_2.png     16\n",
       "13                          /cgi-bin/mailgraph2.cgi     16\n",
       "14       /cgi-bin/mailgraph.cgi/mailgraph_0_err.png     16\n",
       "15       /cgi-bin/mailgraph.cgi/mailgraph_2_err.png     16\n",
       "16           /cgi-bin/mailgraph.cgi/mailgraph_0.png     16\n",
       "17       /cgi-bin/mailgraph.cgi/mailgraph_1_err.png     16\n",
       "18           /cgi-bin/mailgraph.cgi/mailgraph_1.png     16\n",
       "19       /cgi-bin/mailgraph.cgi/mailgraph_3_err.png     16"
      ]
     },
     "execution_count": 31,
     "metadata": {},
     "output_type": "execute_result"
    }
   ],
   "source": [
    "paths_df = (logs_df\n",
    "            .groupBy('endpoint')\n",
    "            .count()\n",
    "            .sort('count', ascending=False).limit(20))\n",
    "\n",
    "paths_pd_df = paths_df.toPandas()\n",
    "paths_pd_df "
   ]
  },
  {
   "cell_type": "markdown",
   "id": "c8c2fd52",
   "metadata": {},
   "source": [
    "# Top Ten Error Endpoints"
   ]
  },
  {
   "cell_type": "code",
   "execution_count": 32,
   "id": "942f00e0",
   "metadata": {},
   "outputs": [
    {
     "name": "stdout",
     "output_type": "stream",
     "text": [
      "+--------------------------------------------------------------+-----+\n",
      "|endpoint                                                      |count|\n",
      "+--------------------------------------------------------------+-----+\n",
      "|/twiki/pub/TWiki/TWikiLogos/twikiRobot46x50.gif               |32   |\n",
      "|/icons/PythonPowered.png                                      |26   |\n",
      "|/icons/gnu-head-tiny.jpg                                      |26   |\n",
      "|/icons/mailman.jpg                                            |26   |\n",
      "|/                                                             |16   |\n",
      "|/mailman                                                      |6    |\n",
      "|/dccstats/index.html                                          |5    |\n",
      "|/razor.html                                                   |3    |\n",
      "|/twiki/bin/edit/Main/UvscanAndPostFix?topicparent=Main.WebHome|2    |\n",
      "|/twiki/bin/edit/Main/PostConf?topicparent=Main.PostfixCommands|2    |\n",
      "+--------------------------------------------------------------+-----+\n",
      "\n"
     ]
    }
   ],
   "source": [
    "not200_df = (logs_df\n",
    "               .filter(logs_df['status'] != 200))\n",
    "\n",
    "error_endpoints_freq_df = (not200_df\n",
    "                               .groupBy('endpoint')\n",
    "                               .count()\n",
    "                               .sort('count', ascending=False)\n",
    "                               .limit(10)\n",
    "                          )\n",
    "                          \n",
    "error_endpoints_freq_df.show(truncate=False)  "
   ]
  },
  {
   "cell_type": "markdown",
   "id": "8272d65d",
   "metadata": {},
   "source": [
    "# Total number of Unique Hosts"
   ]
  },
  {
   "cell_type": "code",
   "execution_count": 33,
   "id": "dfe36c48",
   "metadata": {},
   "outputs": [
    {
     "data": {
      "text/plain": [
       "172"
      ]
     },
     "execution_count": 33,
     "metadata": {},
     "output_type": "execute_result"
    }
   ],
   "source": [
    "unique_host_count = (logs_df\n",
    "                     .select('host')\n",
    "                     .distinct()\n",
    "                     .count())\n",
    "unique_host_count"
   ]
  },
  {
   "cell_type": "markdown",
   "id": "76babe67",
   "metadata": {},
   "source": [
    "# Counting 404 Response Codes"
   ]
  },
  {
   "cell_type": "code",
   "execution_count": 35,
   "id": "b56e13f8",
   "metadata": {},
   "outputs": [
    {
     "name": "stdout",
     "output_type": "stream",
     "text": [
      "Total 404 responses: 5\n"
     ]
    }
   ],
   "source": [
    "not_found_df = logs_df.filter(logs_df[\"status\"] == 404).cache()\n",
    "print(('Total 404 responses: {}').format(not_found_df.count()))"
   ]
  },
  {
   "cell_type": "markdown",
   "id": "b1a31ca3",
   "metadata": {},
   "source": [
    "# Listing the Top Twenty 404 Response Code Endpoints"
   ]
  },
  {
   "cell_type": "code",
   "execution_count": 36,
   "id": "f022c3fc",
   "metadata": {},
   "outputs": [
    {
     "name": "stdout",
     "output_type": "stream",
     "text": [
      "+-------------------------------------------------------------+-----+\n",
      "|endpoint                                                     |count|\n",
      "+-------------------------------------------------------------+-----+\n",
      "|/MSOffice/cltreq.asp?UL=1&ACT=4&BUILD=2614&STRMVER=4&CAPREQ=0|1    |\n",
      "|/M83A                                                        |1    |\n",
      "|/pipermail/cipg/2003-november.txt                            |1    |\n",
      "|/_vti_bin/owssvr.dll?UL=1&ACT=4&BUILD=2614&STRMVER=4&CAPREQ=0|1    |\n",
      "|/twiki/view/Main/WebHome                                     |1    |\n",
      "+-------------------------------------------------------------+-----+\n",
      "\n"
     ]
    }
   ],
   "source": [
    "endpoints_404_count_df = (not_found_df\n",
    "                          .groupBy(\"endpoint\")\n",
    "                          .count()\n",
    "                          .sort(\"count\", ascending=False)\n",
    "                          .limit(20))\n",
    "\n",
    "endpoints_404_count_df.show(truncate=False)"
   ]
  },
  {
   "cell_type": "markdown",
   "id": "4d1b1b91",
   "metadata": {},
   "source": [
    "# Listing the Top Twenty 404 Response Code Hosts"
   ]
  },
  {
   "cell_type": "code",
   "execution_count": 37,
   "id": "bc03ac50",
   "metadata": {},
   "outputs": [
    {
     "name": "stdout",
     "output_type": "stream",
     "text": [
      "+-----------------------------+-----+\n",
      "|host                         |count|\n",
      "+-----------------------------+-----+\n",
      "|61.9.4.61                    |2    |\n",
      "|1513.cps.virtua.com.br       |1    |\n",
      "|osdlab.eic.nctu.edu.tw       |1    |\n",
      "|h24-70-56-49.ca.shawcable.net|1    |\n",
      "+-----------------------------+-----+\n",
      "\n"
     ]
    }
   ],
   "source": [
    "hosts_404_count_df = (not_found_df\n",
    "                          .groupBy(\"host\")\n",
    "                          .count()\n",
    "                          .sort(\"count\", ascending=False)\n",
    "                          .limit(20))\n",
    "\n",
    "hosts_404_count_df.show(truncate=False)"
   ]
  },
  {
   "cell_type": "code",
   "execution_count": null,
   "id": "ca3151f2",
   "metadata": {},
   "outputs": [],
   "source": []
  }
 ],
 "metadata": {
  "kernelspec": {
   "display_name": "Python 3",
   "language": "python",
   "name": "python3"
  },
  "language_info": {
   "codemirror_mode": {
    "name": "ipython",
    "version": 3
   },
   "file_extension": ".py",
   "mimetype": "text/x-python",
   "name": "python",
   "nbconvert_exporter": "python",
   "pygments_lexer": "ipython3",
   "version": "3.8.8"
  }
 },
 "nbformat": 4,
 "nbformat_minor": 5
}
